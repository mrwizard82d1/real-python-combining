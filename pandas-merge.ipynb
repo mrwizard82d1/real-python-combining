{
 "cells": [
  {
   "cell_type": "markdown",
   "id": "6e1cde76-7e0d-493b-8441-0d6e4d75204f",
   "metadata": {},
   "source": [
    "# Real Python article \"Combining Data in pandas With merge(), .join(), and concat()\""
   ]
  },
  {
   "cell_type": "markdown",
   "id": "f32522c9-d008-4da8-892c-790c81b40a39",
   "metadata": {},
   "source": [
    "Import typical data science packages"
   ]
  },
  {
   "cell_type": "code",
   "execution_count": null,
   "id": "initial_id",
   "metadata": {
    "jupyter": {
     "is_executing": true
    }
   },
   "outputs": [],
   "source": [
    "import numpy as np\n",
    "import matplotlib.pyplot as plt\n",
    "import pandas as pd"
   ]
  },
  {
   "cell_type": "markdown",
   "id": "ab6b8feb-389e-4d54-b1bd-642d0e0e521e",
   "metadata": {},
   "source": [
    "Open our data sets"
   ]
  },
  {
   "cell_type": "code",
   "execution_count": null,
   "id": "c0ecf27b-0b2e-471b-a5e8-99b0576606ed",
   "metadata": {},
   "outputs": [],
   "source": [
    "climate_temp = pd.read_csv('./climate_temp.csv')\n",
    "climate_precip = pd.read_csv('./climate_precip.csv')"
   ]
  },
  {
   "cell_type": "markdown",
   "id": "e26ed50f-02c8-4159-a965-ae6d3d9861dd",
   "metadata": {},
   "source": [
    "Sample the temperature data..."
   ]
  },
  {
   "cell_type": "code",
   "execution_count": null,
   "id": "11af6c0b-f720-471e-9cfe-f898bf2aad1d",
   "metadata": {},
   "outputs": [],
   "source": [
    "climate_temp.sample(7, random_state=1618)"
   ]
  },
  {
   "cell_type": "markdown",
   "id": "8cd4b970-fef6-45d9-a560-601043840279",
   "metadata": {},
   "source": [
    "... and the precipitation data."
   ]
  },
  {
   "cell_type": "code",
   "execution_count": null,
   "id": "25dea08a-6014-4320-ad2f-99b2ab514e98",
   "metadata": {},
   "outputs": [],
   "source": [
    "climate_precip.sample(7, random_state=1618)"
   ]
  },
  {
   "cell_type": "markdown",
   "id": "b9a02053-89dd-4af2-8feb-4fdf6e1d90b9",
   "metadata": {},
   "source": [
    "What is the shape of the data?"
   ]
  },
  {
   "cell_type": "code",
   "execution_count": null,
   "id": "38d4b018-c295-44dd-920f-b8c9fa30726c",
   "metadata": {},
   "outputs": [],
   "source": [
    "climate_temp.shape"
   ]
  },
  {
   "cell_type": "code",
   "execution_count": null,
   "id": "44475e3a-5ca8-4019-845f-7fe1f98e51b6",
   "metadata": {},
   "outputs": [],
   "source": [
    "climate_precip.shape"
   ]
  },
  {
   "cell_type": "code",
   "execution_count": null,
   "id": "b9148083-597d-4b93-bf62-3b85b75bbe6f",
   "metadata": {},
   "outputs": [],
   "source": []
  }
 ],
 "metadata": {
  "kernelspec": {
   "display_name": "Python 3 (ipykernel)",
   "language": "python",
   "name": "python3"
  },
  "language_info": {
   "codemirror_mode": {
    "name": "ipython",
    "version": 3
   },
   "file_extension": ".py",
   "mimetype": "text/x-python",
   "name": "python",
   "nbconvert_exporter": "python",
   "pygments_lexer": "ipython3",
   "version": "3.12.3"
  }
 },
 "nbformat": 4,
 "nbformat_minor": 5
}
