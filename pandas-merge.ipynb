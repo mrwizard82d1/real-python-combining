{
 "cells": [
  {
   "cell_type": "markdown",
   "id": "6e1cde76-7e0d-493b-8441-0d6e4d75204f",
   "metadata": {},
   "source": [
    "# Real Python article \"Combining Data in pandas With merge(), .join(), and concat()\""
   ]
  },
  {
   "cell_type": "markdown",
   "id": "f32522c9-d008-4da8-892c-790c81b40a39",
   "metadata": {},
   "source": [
    "Import typical data science packages"
   ]
  },
  {
   "cell_type": "code",
   "execution_count": null,
   "id": "initial_id",
   "metadata": {},
   "outputs": [],
   "source": [
    "import numpy as np\n",
    "import matplotlib.pyplot as plt\n",
    "import pandas as pd"
   ]
  },
  {
   "cell_type": "markdown",
   "id": "ab6b8feb-389e-4d54-b1bd-642d0e0e521e",
   "metadata": {},
   "source": [
    "Open our data sets"
   ]
  },
  {
   "cell_type": "code",
   "execution_count": null,
   "id": "c0ecf27b-0b2e-471b-a5e8-99b0576606ed",
   "metadata": {},
   "outputs": [],
   "source": [
    "climate_temp = pd.read_csv('./climate_temp.csv')\n",
    "climate_precip = pd.read_csv('./climate_precip.csv')"
   ]
  },
  {
   "cell_type": "markdown",
   "id": "e26ed50f-02c8-4159-a965-ae6d3d9861dd",
   "metadata": {},
   "source": [
    "Sample the temperature data..."
   ]
  },
  {
   "cell_type": "code",
   "execution_count": null,
   "id": "11af6c0b-f720-471e-9cfe-f898bf2aad1d",
   "metadata": {},
   "outputs": [],
   "source": [
    "climate_temp.sample(7, random_state=1618)"
   ]
  },
  {
   "cell_type": "markdown",
   "id": "8cd4b970-fef6-45d9-a560-601043840279",
   "metadata": {},
   "source": [
    "... and the precipitation data."
   ]
  },
  {
   "cell_type": "code",
   "execution_count": null,
   "id": "25dea08a-6014-4320-ad2f-99b2ab514e98",
   "metadata": {},
   "outputs": [],
   "source": [
    "climate_precip.sample(7, random_state=1618)"
   ]
  },
  {
   "cell_type": "markdown",
   "id": "b9a02053-89dd-4af2-8feb-4fdf6e1d90b9",
   "metadata": {},
   "source": [
    "What is the shape of the data?"
   ]
  },
  {
   "cell_type": "code",
   "execution_count": null,
   "id": "38d4b018-c295-44dd-920f-b8c9fa30726c",
   "metadata": {},
   "outputs": [],
   "source": [
    "climate_temp.shape"
   ]
  },
  {
   "cell_type": "code",
   "execution_count": null,
   "id": "44475e3a-5ca8-4019-845f-7fe1f98e51b6",
   "metadata": {},
   "outputs": [],
   "source": [
    "climate_precip.shape"
   ]
  },
  {
   "cell_type": "markdown",
   "id": "53ef946e-3acb-4b68-b1ac-9a5f4fa46e95",
   "metadata": {},
   "source": [
    "## Inner join"
   ]
  },
  {
   "cell_type": "markdown",
   "id": "60cf5e9e-b3e0-4f1d-a644-7ad0287efc68",
   "metadata": {},
   "source": [
    "Begin by selecting a small slicep of precipitation data."
   ]
  },
  {
   "cell_type": "code",
   "execution_count": null,
   "id": "56230f15-b641-45ec-adb4-29f1816b675e",
   "metadata": {},
   "outputs": [],
   "source": [
    "precip_one_station = climate_precip.query('STATION == \"GHCND:USC00045721\"')\n",
    "precip_one_station.sample(7, random_state=1618)"
   ]
  },
  {
   "cell_type": "code",
   "execution_count": null,
   "id": "25d6f914-ad15-4e4b-9439-0644bff291d9",
   "metadata": {},
   "outputs": [],
   "source": [
    "precip_one_station.shape"
   ]
  },
  {
   "cell_type": "markdown",
   "id": "c4669591-91c7-46cb-b200-0614631a2e7e",
   "metadata": {},
   "source": [
    "Now, with only 385 rows in one of the parameters, we get a small dataset after the merge."
   ]
  },
  {
   "cell_type": "code",
   "execution_count": null,
   "id": "b930b315-417f-4f90-9ffb-d304e65c554e",
   "metadata": {},
   "outputs": [],
   "source": [
    "inner_merged = pd.merge(precip_one_station, climate_temp)\n",
    "inner_merged.sample(7, random_state=1618)"
   ]
  },
  {
   "cell_type": "markdown",
   "id": "e3453b4d-fb65-4b00-82be-25fc111f9829",
   "metadata": {},
   "source": [
    "The shape after the merge has 365 rows."
   ]
  },
  {
   "cell_type": "code",
   "execution_count": null,
   "id": "1debe9d8-381b-45db-a6af-ca7f159e2f99",
   "metadata": {},
   "outputs": [],
   "source": [
    "inner_merged.shape"
   ]
  },
  {
   "cell_type": "markdown",
   "id": "16427777-7e2f-47f8-ad82-dd654c615b2f",
   "metadata": {},
   "source": [
    "By default, `merge` joins on all the same columns. \n",
    "\n",
    "Since a combination of `Station` and `Date` is unique,\n",
    "one can actually limit the `merge` join to those columns."
   ]
  },
  {
   "cell_type": "code",
   "execution_count": null,
   "id": "04e4063b-74e7-4ec4-8afb-aacc15eb1fb2",
   "metadata": {},
   "outputs": [],
   "source": [
    "inner_merged_total = pd.merge(\n",
    "    climate_temp, climate_precip, on=['STATION', 'DATE']\n",
    ")\n",
    "inner_merged_total.sample(7, random_state=1618)"
   ]
  },
  {
   "cell_type": "code",
   "execution_count": null,
   "id": "e450996d-7d0a-40f2-9235-1f7d72f52ed5",
   "metadata": {},
   "outputs": [],
   "source": [
    "inner_merged_total.shape"
   ]
  },
  {
   "cell_type": "markdown",
   "id": "ba3c6e43-8bd2-4200-b80e-bb955586289b",
   "metadata": {},
   "source": [
    "One can also specify a single common column by supplying a \n",
    "single value for the `on` parameter (instead of a list)."
   ]
  },
  {
   "cell_type": "markdown",
   "id": "659f54a1-6821-48b7-93ca-7361514817db",
   "metadata": {},
   "source": [
    "## Outer join"
   ]
  },
  {
   "cell_type": "markdown",
   "id": "1e599b2f-7189-4dec-a633-31f47d858af5",
   "metadata": {},
   "source": [
    "This section performs a **full** outer join (all keys in both \n",
    "left- and right-hand arguments).\n",
    "\n",
    "Any items in the join that are \"missing\" will be filled with\n",
    "`NaN` values when `merge()` returns."
   ]
  },
  {
   "cell_type": "code",
   "execution_count": null,
   "id": "c746403e-5aeb-4ace-8eb4-3ef8d8a49962",
   "metadata": {},
   "outputs": [],
   "source": [
    "outer_merged = pd.merge(\n",
    "    precip_one_station, climate_temp, how='outer', on=['STATION', 'DATE']\n",
    ")\n",
    "outer_merged.sample(7, random_state=1618)"
   ]
  },
  {
   "cell_type": "code",
   "execution_count": null,
   "id": "4e0bba67-f01e-4137-b3cc-daff90613231",
   "metadata": {},
   "outputs": [],
   "source": [
    "outer_merged.shape"
   ]
  },
  {
   "cell_type": "markdown",
   "id": "2059f247-07cb-486b-a662-e86859528760",
   "metadata": {},
   "source": [
    "Notice how the merge generates many, many cells with `NaN` values."
   ]
  },
  {
   "cell_type": "markdown",
   "id": "6c30858d-79f9-401e-abfe-d76adfbbbc08",
   "metadata": {},
   "source": [
    "## Left (outer) join"
   ]
  },
  {
   "cell_type": "markdown",
   "id": "d99ad787-5e37-4214-89ed-3d98bdb55bf2",
   "metadata": {},
   "source": [
    "One specifies a left join, aka, a left outer join, using the\n",
    "`how` parameter.\n",
    "\n",
    "The data frame resulting from a left outer join contains all\n",
    "the rows of the left-hand data frame but **discards** all rows\n",
    "from the right-hand data frame that **do not** have a match\n",
    "in the key column (the `on` column) of the left-hand data frame."
   ]
  },
  {
   "cell_type": "code",
   "execution_count": null,
   "id": "2283b079-7261-4358-b46d-9cfb82b99316",
   "metadata": {},
   "outputs": [],
   "source": [
    "left_merged = pd.merge(\n",
    "    climate_temp, precip_one_station, how='left', on=['STATION', 'DATE']\n",
    ")\n",
    "left_merged.sample(7, random_state=1618)"
   ]
  },
  {
   "cell_type": "code",
   "execution_count": null,
   "id": "493e255e-a9a3-4bf8-8f1d-f56d4b28d7e1",
   "metadata": {},
   "outputs": [],
   "source": [
    "left_merged.shape"
   ]
  },
  {
   "cell_type": "markdown",
   "id": "edfade5e-dfa6-4abd-a2f5-5a13059432ee",
   "metadata": {},
   "source": [
    "If we reverse the data frame arguments to the `merge()` call,\n",
    "we obtain a **much** smaller resultant data frame."
   ]
  },
  {
   "cell_type": "code",
   "execution_count": null,
   "id": "8d9900c8-460e-45e0-8934-5a1564412e63",
   "metadata": {},
   "outputs": [],
   "source": [
    "left_merged_reversed = pd.merge(\n",
    "    precip_one_station, climate_temp, how='left', on=['STATION', 'DATE']\n",
    ")\n",
    "left_merged_reversed.sample(7, random_state=1618)"
   ]
  },
  {
   "cell_type": "code",
   "execution_count": null,
   "id": "8df68f7b-1689-489b-b48b-6885baa9f092",
   "metadata": {},
   "outputs": [],
   "source": [
    "left_merged_reversed.shape"
   ]
  },
  {
   "cell_type": "markdown",
   "id": "2925b58c-dbb8-4078-be0b-2b80f2a01d58",
   "metadata": {},
   "source": [
    "## Right (outer) join"
   ]
  },
  {
   "cell_type": "markdown",
   "id": "51e43584-dffb-406b-add6-9a35e298c413",
   "metadata": {},
   "source": [
    "A right join or, more technically, a right outer join, is the \n",
    "mirror image of a left outer join except the right-hand data frame\n",
    "controls the rows in the merge."
   ]
  },
  {
   "cell_type": "markdown",
   "id": "b710b802-5fa4-46a0-8f44-4737c4a4d90b",
   "metadata": {},
   "source": [
    "To demonstrate this behavior, the following code will **recreate** \n",
    "the `left_merged` data frame created earlier."
   ]
  },
  {
   "cell_type": "code",
   "execution_count": null,
   "id": "e39f896d-2c46-42b4-90a2-7d13425f7509",
   "metadata": {},
   "outputs": [],
   "source": [
    "right_merged = pd.merge(\n",
    "    precip_one_station, climate_temp, how='right', on=['STATION', 'DATE']\n",
    ")\n",
    "right_merged.sample(7, random_state=1681)"
   ]
  },
  {
   "cell_type": "code",
   "execution_count": null,
   "id": "298f778c-18a1-40f8-8664-d24f9b1a3eed",
   "metadata": {},
   "outputs": [],
   "source": [
    "right_merged.shape"
   ]
  },
  {
   "cell_type": "markdown",
   "id": "267b95f5-93e6-492f-ab0d-1de65c0b1ef7",
   "metadata": {},
   "source": [
    "A closer inspection shows that the **order of the columns** of the\n",
    "`left_merged` and `right_merged` are **different**. The first columns\n",
    "in a merge **always** come from the first argument to `merge()`"
   ]
  },
  {
   "cell_type": "code",
   "execution_count": null,
   "id": "3c1c4c83-faf3-46c9-a5be-171aa5ab1786",
   "metadata": {},
   "outputs": [],
   "source": []
  }
 ],
 "metadata": {
  "kernelspec": {
   "display_name": "Python 3 (ipykernel)",
   "language": "python",
   "name": "python3"
  },
  "language_info": {
   "codemirror_mode": {
    "name": "ipython",
    "version": 3
   },
   "file_extension": ".py",
   "mimetype": "text/x-python",
   "name": "python",
   "nbconvert_exporter": "python",
   "pygments_lexer": "ipython3",
   "version": "3.12.3"
  }
 },
 "nbformat": 4,
 "nbformat_minor": 5
}
