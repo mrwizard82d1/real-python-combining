{
 "cells": [
  {
   "cell_type": "markdown",
   "id": "6e1cde76-7e0d-493b-8441-0d6e4d75204f",
   "metadata": {},
   "source": [
    "# Real Python article \"Combining Data in pandas With merge(), .join(), and concat()\""
   ]
  },
  {
   "cell_type": "markdown",
   "id": "f32522c9-d008-4da8-892c-790c81b40a39",
   "metadata": {},
   "source": [
    "Import typical data science packages"
   ]
  },
  {
   "cell_type": "code",
   "id": "initial_id",
   "metadata": {},
   "source": [
    "import numpy as np\n",
    "import matplotlib.pyplot as plt\n",
    "import pandas as pd"
   ],
   "outputs": [],
   "execution_count": null
  },
  {
   "cell_type": "markdown",
   "id": "ab6b8feb-389e-4d54-b1bd-642d0e0e521e",
   "metadata": {},
   "source": [
    "Open our data sets"
   ]
  },
  {
   "cell_type": "code",
   "id": "c0ecf27b-0b2e-471b-a5e8-99b0576606ed",
   "metadata": {},
   "source": [
    "climate_temp = pd.read_csv('./climate_temp.csv')\n",
    "climate_precip = pd.read_csv('./climate_precip.csv')"
   ],
   "outputs": [],
   "execution_count": null
  },
  {
   "cell_type": "markdown",
   "id": "e26ed50f-02c8-4159-a965-ae6d3d9861dd",
   "metadata": {},
   "source": [
    "Sample the temperature data..."
   ]
  },
  {
   "cell_type": "code",
   "id": "11af6c0b-f720-471e-9cfe-f898bf2aad1d",
   "metadata": {},
   "source": [
    "climate_temp.sample(7, random_state=1618)"
   ],
   "outputs": [],
   "execution_count": null
  },
  {
   "cell_type": "markdown",
   "id": "8cd4b970-fef6-45d9-a560-601043840279",
   "metadata": {},
   "source": [
    "... and the precipitation data."
   ]
  },
  {
   "cell_type": "code",
   "id": "25dea08a-6014-4320-ad2f-99b2ab514e98",
   "metadata": {},
   "source": [
    "climate_precip.sample(7, random_state=1618)"
   ],
   "outputs": [],
   "execution_count": null
  },
  {
   "cell_type": "markdown",
   "id": "b9a02053-89dd-4af2-8feb-4fdf6e1d90b9",
   "metadata": {},
   "source": [
    "What is the shape of the data?"
   ]
  },
  {
   "cell_type": "code",
   "id": "38d4b018-c295-44dd-920f-b8c9fa30726c",
   "metadata": {},
   "source": [
    "climate_temp.shape"
   ],
   "outputs": [],
   "execution_count": null
  },
  {
   "cell_type": "code",
   "id": "44475e3a-5ca8-4019-845f-7fe1f98e51b6",
   "metadata": {},
   "source": [
    "climate_precip.shape"
   ],
   "outputs": [],
   "execution_count": null
  },
  {
   "cell_type": "markdown",
   "id": "53ef946e-3acb-4b68-b1ac-9a5f4fa46e95",
   "metadata": {},
   "source": [
    "## Inner join"
   ]
  },
  {
   "cell_type": "markdown",
   "id": "60cf5e9e-b3e0-4f1d-a644-7ad0287efc68",
   "metadata": {},
   "source": [
    "Begin by selecting a small slicep of precipitation data."
   ]
  },
  {
   "cell_type": "code",
   "id": "56230f15-b641-45ec-adb4-29f1816b675e",
   "metadata": {},
   "source": [
    "precip_one_station = climate_precip.query('STATION == \"GHCND:USC00045721\"')\n",
    "precip_one_station.sample(7, random_state=1618)"
   ],
   "outputs": [],
   "execution_count": null
  },
  {
   "cell_type": "code",
   "id": "25d6f914-ad15-4e4b-9439-0644bff291d9",
   "metadata": {},
   "source": [
    "precip_one_station.shape"
   ],
   "outputs": [],
   "execution_count": null
  },
  {
   "cell_type": "markdown",
   "id": "c4669591-91c7-46cb-b200-0614631a2e7e",
   "metadata": {},
   "source": [
    "Now, with only 385 rows in one of the parameters, we get a small dataset after the merge."
   ]
  },
  {
   "cell_type": "code",
   "id": "b930b315-417f-4f90-9ffb-d304e65c554e",
   "metadata": {},
   "source": [
    "inner_merged = pd.merge(precip_one_station, climate_temp)\n",
    "inner_merged.sample(7, random_state=1618)"
   ],
   "outputs": [],
   "execution_count": null
  },
  {
   "cell_type": "markdown",
   "id": "e3453b4d-fb65-4b00-82be-25fc111f9829",
   "metadata": {},
   "source": [
    "The shape after the merge has 365 rows."
   ]
  },
  {
   "cell_type": "code",
   "id": "1debe9d8-381b-45db-a6af-ca7f159e2f99",
   "metadata": {},
   "source": [
    "inner_merged.shape"
   ],
   "outputs": [],
   "execution_count": null
  },
  {
   "cell_type": "markdown",
   "id": "16427777-7e2f-47f8-ad82-dd654c615b2f",
   "metadata": {},
   "source": [
    "By default, `merge` joins on all the same columns. \n",
    "\n",
    "Since a combination of `Station` and `Date` is unique,\n",
    "one can actually limit the `merge` join to those columns."
   ]
  },
  {
   "cell_type": "code",
   "id": "04e4063b-74e7-4ec4-8afb-aacc15eb1fb2",
   "metadata": {},
   "source": [
    "inner_merged_total = pd.merge(\n",
    "    climate_temp, climate_precip, on=['STATION', 'DATE']\n",
    ")\n",
    "inner_merged_total.sample(7, random_state=1618)"
   ],
   "outputs": [],
   "execution_count": null
  },
  {
   "cell_type": "code",
   "id": "e450996d-7d0a-40f2-9235-1f7d72f52ed5",
   "metadata": {},
   "source": [
    "inner_merged_total.shape"
   ],
   "outputs": [],
   "execution_count": null
  },
  {
   "cell_type": "markdown",
   "id": "ba3c6e43-8bd2-4200-b80e-bb955586289b",
   "metadata": {},
   "source": [
    "One can also specify a single common column by supplying a \n",
    "single value for the `on` parameter (instead of a list)."
   ]
  },
  {
   "cell_type": "markdown",
   "id": "659f54a1-6821-48b7-93ca-7361514817db",
   "metadata": {},
   "source": [
    "## Outer join"
   ]
  },
  {
   "cell_type": "code",
   "id": "b86f2e22-e2e3-4040-b579-a82d31ed576d",
   "metadata": {},
   "source": [],
   "outputs": [],
   "execution_count": null
  }
 ],
 "metadata": {
  "kernelspec": {
   "display_name": "Python 3 (ipykernel)",
   "language": "python",
   "name": "python3"
  },
  "language_info": {
   "codemirror_mode": {
    "name": "ipython",
    "version": 3
   },
   "file_extension": ".py",
   "mimetype": "text/x-python",
   "name": "python",
   "nbconvert_exporter": "python",
   "pygments_lexer": "ipython3",
   "version": "3.12.3"
  }
 },
 "nbformat": 4,
 "nbformat_minor": 5
}
